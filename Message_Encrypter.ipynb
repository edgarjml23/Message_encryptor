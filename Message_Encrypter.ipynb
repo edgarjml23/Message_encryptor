{
  "nbformat": 4,
  "nbformat_minor": 0,
  "metadata": {
    "colab": {
      "provenance": []
    },
    "kernelspec": {
      "name": "python3",
      "display_name": "Python 3"
    },
    "language_info": {
      "name": "python"
    },
    "widgets": {
      "application/vnd.jupyter.widget-state+json": {
        "cbdcf2b82e7e4991a5b5e8e776ac2db0": {
          "model_module": "@jupyter-widgets/controls",
          "model_name": "PasswordModel",
          "model_module_version": "1.5.0",
          "state": {
            "_dom_classes": [],
            "_model_module": "@jupyter-widgets/controls",
            "_model_module_version": "1.5.0",
            "_model_name": "PasswordModel",
            "_view_count": null,
            "_view_module": "@jupyter-widgets/controls",
            "_view_module_version": "1.5.0",
            "_view_name": "PasswordView",
            "continuous_update": true,
            "description": "Encrypt Password:",
            "description_tooltip": null,
            "disabled": false,
            "layout": "IPY_MODEL_46b2f6501b3c44b7aaab1802d56f8104",
            "placeholder": "​",
            "style": "IPY_MODEL_060644a1355049ae8bf3f7e460ace631",
            "value": "Mlpn9078"
          }
        },
        "46b2f6501b3c44b7aaab1802d56f8104": {
          "model_module": "@jupyter-widgets/base",
          "model_name": "LayoutModel",
          "model_module_version": "1.2.0",
          "state": {
            "_model_module": "@jupyter-widgets/base",
            "_model_module_version": "1.2.0",
            "_model_name": "LayoutModel",
            "_view_count": null,
            "_view_module": "@jupyter-widgets/base",
            "_view_module_version": "1.2.0",
            "_view_name": "LayoutView",
            "align_content": null,
            "align_items": null,
            "align_self": null,
            "border": null,
            "bottom": null,
            "display": null,
            "flex": null,
            "flex_flow": null,
            "grid_area": null,
            "grid_auto_columns": null,
            "grid_auto_flow": null,
            "grid_auto_rows": null,
            "grid_column": null,
            "grid_gap": null,
            "grid_row": null,
            "grid_template_areas": null,
            "grid_template_columns": null,
            "grid_template_rows": null,
            "height": null,
            "justify_content": null,
            "justify_items": null,
            "left": null,
            "margin": null,
            "max_height": null,
            "max_width": null,
            "min_height": null,
            "min_width": null,
            "object_fit": null,
            "object_position": null,
            "order": null,
            "overflow": null,
            "overflow_x": null,
            "overflow_y": null,
            "padding": null,
            "right": null,
            "top": null,
            "visibility": null,
            "width": null
          }
        },
        "060644a1355049ae8bf3f7e460ace631": {
          "model_module": "@jupyter-widgets/controls",
          "model_name": "DescriptionStyleModel",
          "model_module_version": "1.5.0",
          "state": {
            "_model_module": "@jupyter-widgets/controls",
            "_model_module_version": "1.5.0",
            "_model_name": "DescriptionStyleModel",
            "_view_count": null,
            "_view_module": "@jupyter-widgets/base",
            "_view_module_version": "1.2.0",
            "_view_name": "StyleView",
            "description_width": ""
          }
        },
        "d355a52a710f4232b562103516fc4bf3": {
          "model_module": "@jupyter-widgets/controls",
          "model_name": "TextareaModel",
          "model_module_version": "1.5.0",
          "state": {
            "_dom_classes": [],
            "_model_module": "@jupyter-widgets/controls",
            "_model_module_version": "1.5.0",
            "_model_name": "TextareaModel",
            "_view_count": null,
            "_view_module": "@jupyter-widgets/controls",
            "_view_module_version": "1.5.0",
            "_view_name": "TextareaView",
            "continuous_update": true,
            "description": "Message:",
            "description_tooltip": null,
            "disabled": false,
            "layout": "IPY_MODEL_99009df4a4664c539d348d9f1e2afd06",
            "placeholder": "​",
            "rows": null,
            "style": "IPY_MODEL_a93a994898054391b0bc087e2b6ec4f4",
            "value": "Ataquen la base militar de japon, orden 64"
          }
        },
        "99009df4a4664c539d348d9f1e2afd06": {
          "model_module": "@jupyter-widgets/base",
          "model_name": "LayoutModel",
          "model_module_version": "1.2.0",
          "state": {
            "_model_module": "@jupyter-widgets/base",
            "_model_module_version": "1.2.0",
            "_model_name": "LayoutModel",
            "_view_count": null,
            "_view_module": "@jupyter-widgets/base",
            "_view_module_version": "1.2.0",
            "_view_name": "LayoutView",
            "align_content": null,
            "align_items": null,
            "align_self": null,
            "border": null,
            "bottom": null,
            "display": null,
            "flex": null,
            "flex_flow": null,
            "grid_area": null,
            "grid_auto_columns": null,
            "grid_auto_flow": null,
            "grid_auto_rows": null,
            "grid_column": null,
            "grid_gap": null,
            "grid_row": null,
            "grid_template_areas": null,
            "grid_template_columns": null,
            "grid_template_rows": null,
            "height": null,
            "justify_content": null,
            "justify_items": null,
            "left": null,
            "margin": null,
            "max_height": null,
            "max_width": null,
            "min_height": null,
            "min_width": null,
            "object_fit": null,
            "object_position": null,
            "order": null,
            "overflow": null,
            "overflow_x": null,
            "overflow_y": null,
            "padding": null,
            "right": null,
            "top": null,
            "visibility": null,
            "width": null
          }
        },
        "a93a994898054391b0bc087e2b6ec4f4": {
          "model_module": "@jupyter-widgets/controls",
          "model_name": "DescriptionStyleModel",
          "model_module_version": "1.5.0",
          "state": {
            "_model_module": "@jupyter-widgets/controls",
            "_model_module_version": "1.5.0",
            "_model_name": "DescriptionStyleModel",
            "_view_count": null,
            "_view_module": "@jupyter-widgets/base",
            "_view_module_version": "1.2.0",
            "_view_name": "StyleView",
            "description_width": ""
          }
        },
        "ef9a092c88c942bf9e97fbe34cf9eee9": {
          "model_module": "@jupyter-widgets/controls",
          "model_name": "ButtonModel",
          "model_module_version": "1.5.0",
          "state": {
            "_dom_classes": [],
            "_model_module": "@jupyter-widgets/controls",
            "_model_module_version": "1.5.0",
            "_model_name": "ButtonModel",
            "_view_count": null,
            "_view_module": "@jupyter-widgets/controls",
            "_view_module_version": "1.5.0",
            "_view_name": "ButtonView",
            "button_style": "",
            "description": "Encrypt",
            "disabled": false,
            "icon": "",
            "layout": "IPY_MODEL_31abef48260b49f897919b93d589bc46",
            "style": "IPY_MODEL_9604a50e0fa24b368c7ade814b6a6cc0",
            "tooltip": ""
          }
        },
        "31abef48260b49f897919b93d589bc46": {
          "model_module": "@jupyter-widgets/base",
          "model_name": "LayoutModel",
          "model_module_version": "1.2.0",
          "state": {
            "_model_module": "@jupyter-widgets/base",
            "_model_module_version": "1.2.0",
            "_model_name": "LayoutModel",
            "_view_count": null,
            "_view_module": "@jupyter-widgets/base",
            "_view_module_version": "1.2.0",
            "_view_name": "LayoutView",
            "align_content": null,
            "align_items": null,
            "align_self": null,
            "border": null,
            "bottom": null,
            "display": null,
            "flex": null,
            "flex_flow": null,
            "grid_area": null,
            "grid_auto_columns": null,
            "grid_auto_flow": null,
            "grid_auto_rows": null,
            "grid_column": null,
            "grid_gap": null,
            "grid_row": null,
            "grid_template_areas": null,
            "grid_template_columns": null,
            "grid_template_rows": null,
            "height": null,
            "justify_content": null,
            "justify_items": null,
            "left": null,
            "margin": null,
            "max_height": null,
            "max_width": null,
            "min_height": null,
            "min_width": null,
            "object_fit": null,
            "object_position": null,
            "order": null,
            "overflow": null,
            "overflow_x": null,
            "overflow_y": null,
            "padding": null,
            "right": null,
            "top": null,
            "visibility": null,
            "width": null
          }
        },
        "9604a50e0fa24b368c7ade814b6a6cc0": {
          "model_module": "@jupyter-widgets/controls",
          "model_name": "ButtonStyleModel",
          "model_module_version": "1.5.0",
          "state": {
            "_model_module": "@jupyter-widgets/controls",
            "_model_module_version": "1.5.0",
            "_model_name": "ButtonStyleModel",
            "_view_count": null,
            "_view_module": "@jupyter-widgets/base",
            "_view_module_version": "1.2.0",
            "_view_name": "StyleView",
            "button_color": null,
            "font_weight": ""
          }
        },
        "f097a8fc0ee642498d700514fcb15f9e": {
          "model_module": "@jupyter-widgets/controls",
          "model_name": "PasswordModel",
          "model_module_version": "1.5.0",
          "state": {
            "_dom_classes": [],
            "_model_module": "@jupyter-widgets/controls",
            "_model_module_version": "1.5.0",
            "_model_name": "PasswordModel",
            "_view_count": null,
            "_view_module": "@jupyter-widgets/controls",
            "_view_module_version": "1.5.0",
            "_view_name": "PasswordView",
            "continuous_update": true,
            "description": "Decrypt Password:",
            "description_tooltip": null,
            "disabled": false,
            "layout": "IPY_MODEL_b5865e7b07564b84936baa12617f4062",
            "placeholder": "​",
            "style": "IPY_MODEL_dd9d7d0424ec4719b6dccdc4a25c299d",
            "value": "Mlpn9078"
          }
        },
        "b5865e7b07564b84936baa12617f4062": {
          "model_module": "@jupyter-widgets/base",
          "model_name": "LayoutModel",
          "model_module_version": "1.2.0",
          "state": {
            "_model_module": "@jupyter-widgets/base",
            "_model_module_version": "1.2.0",
            "_model_name": "LayoutModel",
            "_view_count": null,
            "_view_module": "@jupyter-widgets/base",
            "_view_module_version": "1.2.0",
            "_view_name": "LayoutView",
            "align_content": null,
            "align_items": null,
            "align_self": null,
            "border": null,
            "bottom": null,
            "display": null,
            "flex": null,
            "flex_flow": null,
            "grid_area": null,
            "grid_auto_columns": null,
            "grid_auto_flow": null,
            "grid_auto_rows": null,
            "grid_column": null,
            "grid_gap": null,
            "grid_row": null,
            "grid_template_areas": null,
            "grid_template_columns": null,
            "grid_template_rows": null,
            "height": null,
            "justify_content": null,
            "justify_items": null,
            "left": null,
            "margin": null,
            "max_height": null,
            "max_width": null,
            "min_height": null,
            "min_width": null,
            "object_fit": null,
            "object_position": null,
            "order": null,
            "overflow": null,
            "overflow_x": null,
            "overflow_y": null,
            "padding": null,
            "right": null,
            "top": null,
            "visibility": null,
            "width": null
          }
        },
        "dd9d7d0424ec4719b6dccdc4a25c299d": {
          "model_module": "@jupyter-widgets/controls",
          "model_name": "DescriptionStyleModel",
          "model_module_version": "1.5.0",
          "state": {
            "_model_module": "@jupyter-widgets/controls",
            "_model_module_version": "1.5.0",
            "_model_name": "DescriptionStyleModel",
            "_view_count": null,
            "_view_module": "@jupyter-widgets/base",
            "_view_module_version": "1.2.0",
            "_view_name": "StyleView",
            "description_width": ""
          }
        },
        "fd1d303dfff04d1798490c9707761d17": {
          "model_module": "@jupyter-widgets/controls",
          "model_name": "ButtonModel",
          "model_module_version": "1.5.0",
          "state": {
            "_dom_classes": [],
            "_model_module": "@jupyter-widgets/controls",
            "_model_module_version": "1.5.0",
            "_model_name": "ButtonModel",
            "_view_count": null,
            "_view_module": "@jupyter-widgets/controls",
            "_view_module_version": "1.5.0",
            "_view_name": "ButtonView",
            "button_style": "",
            "description": "Decrypt",
            "disabled": false,
            "icon": "",
            "layout": "IPY_MODEL_aa9e8c877f5549eb81989b358261cffc",
            "style": "IPY_MODEL_73773bdff0fe4a5682fff9d1741de8cc",
            "tooltip": ""
          }
        },
        "aa9e8c877f5549eb81989b358261cffc": {
          "model_module": "@jupyter-widgets/base",
          "model_name": "LayoutModel",
          "model_module_version": "1.2.0",
          "state": {
            "_model_module": "@jupyter-widgets/base",
            "_model_module_version": "1.2.0",
            "_model_name": "LayoutModel",
            "_view_count": null,
            "_view_module": "@jupyter-widgets/base",
            "_view_module_version": "1.2.0",
            "_view_name": "LayoutView",
            "align_content": null,
            "align_items": null,
            "align_self": null,
            "border": null,
            "bottom": null,
            "display": null,
            "flex": null,
            "flex_flow": null,
            "grid_area": null,
            "grid_auto_columns": null,
            "grid_auto_flow": null,
            "grid_auto_rows": null,
            "grid_column": null,
            "grid_gap": null,
            "grid_row": null,
            "grid_template_areas": null,
            "grid_template_columns": null,
            "grid_template_rows": null,
            "height": null,
            "justify_content": null,
            "justify_items": null,
            "left": null,
            "margin": null,
            "max_height": null,
            "max_width": null,
            "min_height": null,
            "min_width": null,
            "object_fit": null,
            "object_position": null,
            "order": null,
            "overflow": null,
            "overflow_x": null,
            "overflow_y": null,
            "padding": null,
            "right": null,
            "top": null,
            "visibility": null,
            "width": null
          }
        },
        "73773bdff0fe4a5682fff9d1741de8cc": {
          "model_module": "@jupyter-widgets/controls",
          "model_name": "ButtonStyleModel",
          "model_module_version": "1.5.0",
          "state": {
            "_model_module": "@jupyter-widgets/controls",
            "_model_module_version": "1.5.0",
            "_model_name": "ButtonStyleModel",
            "_view_count": null,
            "_view_module": "@jupyter-widgets/base",
            "_view_module_version": "1.2.0",
            "_view_name": "StyleView",
            "button_color": null,
            "font_weight": ""
          }
        },
        "566d62bd8a554ba892d951e85033ab1d": {
          "model_module": "@jupyter-widgets/controls",
          "model_name": "TextModel",
          "model_module_version": "1.5.0",
          "state": {
            "_dom_classes": [],
            "_model_module": "@jupyter-widgets/controls",
            "_model_module_version": "1.5.0",
            "_model_name": "TextModel",
            "_view_count": null,
            "_view_module": "@jupyter-widgets/controls",
            "_view_module_version": "1.5.0",
            "_view_name": "TextView",
            "continuous_update": true,
            "description": "Encrypted message:",
            "description_tooltip": null,
            "disabled": true,
            "layout": "IPY_MODEL_729f6f56ecfd4fa48a620d387482abc9",
            "placeholder": "​",
            "style": "IPY_MODEL_73c3bef3750c412e8f614203bc698bad",
            "value": "gAAAAABkML7d7IsInsc6cJpahMVmNVNC7v5O_F5t8ieVcxAvxtbYmiMkH25NSbu8snN7Ueg562mYumo3Hic9DyRag0eXMlAlv1CALjscuPK_ANk9WeXIBqcqrmwG09hcASKPdbEEBF3d"
          }
        },
        "729f6f56ecfd4fa48a620d387482abc9": {
          "model_module": "@jupyter-widgets/base",
          "model_name": "LayoutModel",
          "model_module_version": "1.2.0",
          "state": {
            "_model_module": "@jupyter-widgets/base",
            "_model_module_version": "1.2.0",
            "_model_name": "LayoutModel",
            "_view_count": null,
            "_view_module": "@jupyter-widgets/base",
            "_view_module_version": "1.2.0",
            "_view_name": "LayoutView",
            "align_content": null,
            "align_items": null,
            "align_self": null,
            "border": null,
            "bottom": null,
            "display": null,
            "flex": null,
            "flex_flow": null,
            "grid_area": null,
            "grid_auto_columns": null,
            "grid_auto_flow": null,
            "grid_auto_rows": null,
            "grid_column": null,
            "grid_gap": null,
            "grid_row": null,
            "grid_template_areas": null,
            "grid_template_columns": null,
            "grid_template_rows": null,
            "height": null,
            "justify_content": null,
            "justify_items": null,
            "left": null,
            "margin": null,
            "max_height": null,
            "max_width": null,
            "min_height": null,
            "min_width": null,
            "object_fit": null,
            "object_position": null,
            "order": null,
            "overflow": null,
            "overflow_x": null,
            "overflow_y": null,
            "padding": null,
            "right": null,
            "top": null,
            "visibility": null,
            "width": null
          }
        },
        "73c3bef3750c412e8f614203bc698bad": {
          "model_module": "@jupyter-widgets/controls",
          "model_name": "DescriptionStyleModel",
          "model_module_version": "1.5.0",
          "state": {
            "_model_module": "@jupyter-widgets/controls",
            "_model_module_version": "1.5.0",
            "_model_name": "DescriptionStyleModel",
            "_view_count": null,
            "_view_module": "@jupyter-widgets/base",
            "_view_module_version": "1.2.0",
            "_view_name": "StyleView",
            "description_width": ""
          }
        },
        "e1753b2fbe9344ada2fe73fb0d411490": {
          "model_module": "@jupyter-widgets/controls",
          "model_name": "TextModel",
          "model_module_version": "1.5.0",
          "state": {
            "_dom_classes": [],
            "_model_module": "@jupyter-widgets/controls",
            "_model_module_version": "1.5.0",
            "_model_name": "TextModel",
            "_view_count": null,
            "_view_module": "@jupyter-widgets/controls",
            "_view_module_version": "1.5.0",
            "_view_name": "TextView",
            "continuous_update": true,
            "description": "Salt:",
            "description_tooltip": null,
            "disabled": true,
            "layout": "IPY_MODEL_515dc2278bc94198a27cfc044201e6aa",
            "placeholder": "​",
            "style": "IPY_MODEL_598debf537e84bfdb7cea8ec11c26d7e",
            "value": "bZ8gNF/lVykrwuSW1sJ8hA=="
          }
        },
        "515dc2278bc94198a27cfc044201e6aa": {
          "model_module": "@jupyter-widgets/base",
          "model_name": "LayoutModel",
          "model_module_version": "1.2.0",
          "state": {
            "_model_module": "@jupyter-widgets/base",
            "_model_module_version": "1.2.0",
            "_model_name": "LayoutModel",
            "_view_count": null,
            "_view_module": "@jupyter-widgets/base",
            "_view_module_version": "1.2.0",
            "_view_name": "LayoutView",
            "align_content": null,
            "align_items": null,
            "align_self": null,
            "border": null,
            "bottom": null,
            "display": "none",
            "flex": null,
            "flex_flow": null,
            "grid_area": null,
            "grid_auto_columns": null,
            "grid_auto_flow": null,
            "grid_auto_rows": null,
            "grid_column": null,
            "grid_gap": null,
            "grid_row": null,
            "grid_template_areas": null,
            "grid_template_columns": null,
            "grid_template_rows": null,
            "height": null,
            "justify_content": null,
            "justify_items": null,
            "left": null,
            "margin": null,
            "max_height": null,
            "max_width": null,
            "min_height": null,
            "min_width": null,
            "object_fit": null,
            "object_position": null,
            "order": null,
            "overflow": null,
            "overflow_x": null,
            "overflow_y": null,
            "padding": null,
            "right": null,
            "top": null,
            "visibility": null,
            "width": null
          }
        },
        "598debf537e84bfdb7cea8ec11c26d7e": {
          "model_module": "@jupyter-widgets/controls",
          "model_name": "DescriptionStyleModel",
          "model_module_version": "1.5.0",
          "state": {
            "_model_module": "@jupyter-widgets/controls",
            "_model_module_version": "1.5.0",
            "_model_name": "DescriptionStyleModel",
            "_view_count": null,
            "_view_module": "@jupyter-widgets/base",
            "_view_module_version": "1.2.0",
            "_view_name": "StyleView",
            "description_width": ""
          }
        }
      }
    }
  },
  "cells": [
    {
      "cell_type": "markdown",
      "source": [
        "Proyecto opcional, sistema de encriptacion y decriptacion con la contraseña que el usuario desee."
      ],
      "metadata": {
        "id": "hv3oeAEUQhRm"
      }
    },
    {
      "cell_type": "code",
      "execution_count": null,
      "metadata": {
        "id": "vzhlrlDYGYr4"
      },
      "outputs": [],
      "source": [
        "!pip install cryptography\n",
        "!pip install ipywidgets"
      ]
    },
    {
      "cell_type": "code",
      "source": [
        "from cryptography.fernet import Fernet\n",
        "from cryptography.hazmat.primitives import hashes\n",
        "from cryptography.hazmat.primitives.kdf.pbkdf2 import PBKDF2HMAC\n",
        "import base64\n",
        "import os\n",
        "import ipywidgets as widgets\n",
        "from IPython.display import display"
      ],
      "metadata": {
        "id": "Xo6Bz88cGaeF"
      },
      "execution_count": null,
      "outputs": []
    },
    {
      "cell_type": "code",
      "source": [
        "# Funcion para derivar la llave\n",
        "def generate_key(password, salt=None): #Definimos \"generate_key\" como funcion\n",
        "    if salt is None:                   #con los argumentos \"password\" &\"salt\"\n",
        "        salt = os.urandom(16)          #\"salt\" siendo un random value generator\n",
        "        \n",
        "    kdf = PBKDF2HMAC(               #Usamos PBKDF2HMAC (Password-Based Key Derivation Function 2 with HMAC) para kdf\n",
        "        algorithm=hashes.SHA256(),  #Especificamos que usamos el algoritmo de hashing: SHA256 \n",
        "        length=32,                  #Va a ser un 32-byte key \n",
        "        salt=salt,                  \n",
        "        iterations=100000,          #Usamos 100mil iteraciones, mientras mas iteraciones, mas dificil un ataque en la llave derivada.\n",
        "    )\n",
        "    \n",
        "    return base64.urlsafe_b64encode(kdf.derive(password.encode())), salt\n",
        "\n",
        "    #Este ultimo return hace varios pasos, encodea la contraseña como bytes\n",
        "    #Una vez encodeado, se llama al derive de kdf\n",
        "    #base64.urlsafe_encode lo uso porque daba un error al poner texto como\n",
        "    #contraseña en vez de 1's y 0's, esto hace que sea posible usarse en url's \n",
        "    #y otros text formats.\n",
        "\n"
      ],
      "metadata": {
        "id": "ihrAdpogGeIz"
      },
      "execution_count": null,
      "outputs": []
    },
    {
      "cell_type": "code",
      "source": [
        "# Funcion de encriptado\n",
        "def encrypt(message, key):\n",
        "    f = Fernet(key)\n",
        "    return f.encrypt(message.encode())\n",
        "\n",
        "# message es el dato o mensaje que quiero encriptar\n",
        "# key es la llave simetrica de encripcion que se va a usar para el mensaje\n",
        "# al poner el key en la funcion fernet se encripta el mensaje en 128 bits\n"
      ],
      "metadata": {
        "id": "wLpIbm0EGirU"
      },
      "execution_count": null,
      "outputs": []
    },
    {
      "cell_type": "code",
      "source": [
        "# Funcion d edecriptado\n",
        "def decrypt(token, key):\n",
        "    f = Fernet(key)\n",
        "    return f.decrypt(token).decode()\n",
        "\n",
        "#Mismo proceso que el encrypt function solo que revertido.\n",
        "#llama el decrypt method del fernet con la llave proveida.\n",
        "#decodea el mensaje encriptado en bits de vuelta a string.\n",
        "#y devuelve el mensaje decriptado como string."
      ],
      "metadata": {
        "id": "onsKrzPtGl_J"
      },
      "execution_count": null,
      "outputs": []
    },
    {
      "cell_type": "code",
      "source": [
        "import base64\n",
        "\n",
        "def on_encrypt_button_click(button):\n",
        "    password = encrypt_password_input.value\n",
        "    message = message_input.value\n",
        "\n",
        "    # Generamos una llave usando la contraseña.\n",
        "    key, salt = generate_key(password)\n",
        "\n",
        "    # Encriptamos el mensaje\n",
        "    encrypted_message = encrypt(message, key)\n",
        "    print(f\"Encrypted message: {encrypted_message}\")\n",
        "\n",
        "    # Almacenamos el mensaje cifrado y la sal en el widget para su desencriptación.\n",
        "    encrypted_message_output.value = encrypted_message\n",
        "    salt_output.value = base64.b64encode(salt).decode()\n",
        "\n",
        "def on_decrypt_button_click(button):\n",
        "    password = decrypt_password_input.value\n",
        "\n",
        "    # Recuperamos el mensaje cifrado y la sal desde el widget.\n",
        "    encrypted_message = encrypted_message_output.value\n",
        "    salt = base64.b64decode(salt_output.value.encode())\n",
        "\n",
        "    if encrypted_message and salt:\n",
        "        # Generamos una clave usando la contraseña y salt.\n",
        "        key, _ = generate_key(password, salt)\n",
        "\n",
        "        # Desciframos el mensaje.\n",
        "        try:\n",
        "            decrypted_message = decrypt(encrypted_message, key)\n",
        "            print(f\"Successfully decrypted message: {decrypted_message}\")\n",
        "        except:\n",
        "            print(\"Decryption failed. Incorrect password.\")\n",
        "    else:\n",
        "        print(\"No encrypted message available for decryption.\")\n",
        "\n",
        "encrypt_password_input = widgets.Password(description=\"Encrypt Password:\")\n",
        "decrypt_password_input = widgets.Password(description=\"Decrypt Password:\")\n",
        "message_input = widgets.Textarea(description=\"Message:\")\n",
        "encrypt_button = widgets.Button(description=\"Encrypt\")\n",
        "decrypt_button = widgets.Button(description=\"Decrypt\")\n",
        "encrypted_message_output = widgets.Text(description=\"Encrypted message:\", disabled=True)\n",
        "salt_output = widgets.Text(description=\"Salt:\", disabled=True, layout=widgets.Layout(display=\"none\"))\n",
        "\n",
        "encrypt_button.on_click(on_encrypt_button_click)\n",
        "decrypt_button.on_click(on_decrypt_button_click)"
      ],
      "metadata": {
        "id": "5KINWjZ_Zspe"
      },
      "execution_count": null,
      "outputs": []
    },
    {
      "cell_type": "code",
      "source": [
        "display(encrypt_password_input, message_input, encrypt_button) #prompteamos el input de contraseña y mensaje"
      ],
      "metadata": {
        "colab": {
          "base_uri": "https://localhost:8080/",
          "height": 162,
          "referenced_widgets": [
            "cbdcf2b82e7e4991a5b5e8e776ac2db0",
            "46b2f6501b3c44b7aaab1802d56f8104",
            "060644a1355049ae8bf3f7e460ace631",
            "d355a52a710f4232b562103516fc4bf3",
            "99009df4a4664c539d348d9f1e2afd06",
            "a93a994898054391b0bc087e2b6ec4f4",
            "ef9a092c88c942bf9e97fbe34cf9eee9",
            "31abef48260b49f897919b93d589bc46",
            "9604a50e0fa24b368c7ade814b6a6cc0"
          ]
        },
        "id": "XypU0vRTLdYT",
        "outputId": "2f2280c1-44d2-44b5-a19e-f65d7c79ce76"
      },
      "execution_count": null,
      "outputs": [
        {
          "output_type": "display_data",
          "data": {
            "text/plain": [
              "Password(description='Encrypt Password:')"
            ],
            "application/vnd.jupyter.widget-view+json": {
              "version_major": 2,
              "version_minor": 0,
              "model_id": "cbdcf2b82e7e4991a5b5e8e776ac2db0"
            }
          },
          "metadata": {}
        },
        {
          "output_type": "display_data",
          "data": {
            "text/plain": [
              "Textarea(value='Siuuuuu', description='Message:')"
            ],
            "application/vnd.jupyter.widget-view+json": {
              "version_major": 2,
              "version_minor": 0,
              "model_id": "d355a52a710f4232b562103516fc4bf3"
            }
          },
          "metadata": {}
        },
        {
          "output_type": "display_data",
          "data": {
            "text/plain": [
              "Button(description='Encrypt', style=ButtonStyle())"
            ],
            "application/vnd.jupyter.widget-view+json": {
              "version_major": 2,
              "version_minor": 0,
              "model_id": "ef9a092c88c942bf9e97fbe34cf9eee9"
            }
          },
          "metadata": {}
        },
        {
          "output_type": "stream",
          "name": "stdout",
          "text": [
            "Encrypted message: b'gAAAAABkML7d7IsInsc6cJpahMVmNVNC7v5O_F5t8ieVcxAvxtbYmiMkH25NSbu8snN7Ueg562mYumo3Hic9DyRag0eXMlAlv1CALjscuPK_ANk9WeXIBqcqrmwG09hcASKPdbEEBF3d'\n"
          ]
        }
      ]
    },
    {
      "cell_type": "code",
      "source": [
        "display(decrypt_password_input, decrypt_button, encrypted_message_output, salt_output) #ahora el otro lado tiene que poner la llave simmetrica para pder descrifrar el mensaje."
      ],
      "metadata": {
        "colab": {
          "base_uri": "https://localhost:8080/",
          "height": 149,
          "referenced_widgets": [
            "f097a8fc0ee642498d700514fcb15f9e",
            "b5865e7b07564b84936baa12617f4062",
            "dd9d7d0424ec4719b6dccdc4a25c299d",
            "fd1d303dfff04d1798490c9707761d17",
            "aa9e8c877f5549eb81989b358261cffc",
            "73773bdff0fe4a5682fff9d1741de8cc",
            "566d62bd8a554ba892d951e85033ab1d",
            "729f6f56ecfd4fa48a620d387482abc9",
            "73c3bef3750c412e8f614203bc698bad",
            "e1753b2fbe9344ada2fe73fb0d411490",
            "515dc2278bc94198a27cfc044201e6aa",
            "598debf537e84bfdb7cea8ec11c26d7e"
          ]
        },
        "id": "58K14z7lMrGT",
        "outputId": "b00377e9-a87c-49cf-d6eb-a12acc0507eb"
      },
      "execution_count": null,
      "outputs": [
        {
          "output_type": "display_data",
          "data": {
            "text/plain": [
              "Password(description='Decrypt Password:')"
            ],
            "application/vnd.jupyter.widget-view+json": {
              "version_major": 2,
              "version_minor": 0,
              "model_id": "f097a8fc0ee642498d700514fcb15f9e"
            }
          },
          "metadata": {}
        },
        {
          "output_type": "display_data",
          "data": {
            "text/plain": [
              "Button(description='Decrypt', style=ButtonStyle())"
            ],
            "application/vnd.jupyter.widget-view+json": {
              "version_major": 2,
              "version_minor": 0,
              "model_id": "fd1d303dfff04d1798490c9707761d17"
            }
          },
          "metadata": {}
        },
        {
          "output_type": "display_data",
          "data": {
            "text/plain": [
              "Text(value='gAAAAABkML63E-DUx_barYg6mk0mSUaVcQnW4lnCSyH9lCtWkA33sSAtbNg_hMQnJn4S0-XupVeHRedvvJ5rB_n8crDuR5o57Q…"
            ],
            "application/vnd.jupyter.widget-view+json": {
              "version_major": 2,
              "version_minor": 0,
              "model_id": "566d62bd8a554ba892d951e85033ab1d"
            }
          },
          "metadata": {}
        },
        {
          "output_type": "display_data",
          "data": {
            "text/plain": [
              "Text(value='N8h4kfTo+4tpm83C/5MyAw==', description='Salt:', disabled=True, layout=Layout(display='none'))"
            ],
            "application/vnd.jupyter.widget-view+json": {
              "version_major": 2,
              "version_minor": 0,
              "model_id": "e1753b2fbe9344ada2fe73fb0d411490"
            }
          },
          "metadata": {}
        },
        {
          "output_type": "stream",
          "name": "stdout",
          "text": [
            "Decryption failed. Incorrect password.\n",
            "Successfully decrypted message: Ataquen la base militar de japon, orden 64\n"
          ]
        }
      ]
    }
  ]
}